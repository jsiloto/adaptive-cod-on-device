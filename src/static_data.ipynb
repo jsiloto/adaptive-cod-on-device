{
 "cells": [
  {
   "cell_type": "code",
   "execution_count": 11,
   "id": "78250caa",
   "metadata": {},
   "outputs": [
    {
     "name": "stdout",
     "output_type": "stream",
     "text": [
      "\\begin{tabular}{lrrrr}\n",
      "\\toprule\n",
      "{} &    MACs &  Params(K) &   mAP &  bw(KB) \\\\\n",
      "model            &         &            &       &         \\\\\n",
      "\\midrule\n",
      "ours\\_11          &    75.7 &        6.3 &  14.5 &     6.9 \\\\\n",
      "ours\\_14          &    75.7 &        6.3 &  34.3 &    27.6 \\\\\n",
      "ours\\_22          &   151.4 &       12.7 &  29.4 &    13.8 \\\\\n",
      "ours\\_24          &   151.4 &       12.7 &  36.1 &    27.6 \\\\\n",
      "ours\\_33          &   227.1 &       19.0 &  34.2 &    20.7 \\\\\n",
      "ours\\_34          &   227.1 &       19.0 &  36.4 &    27.6 \\\\\n",
      "ours\\_44          &   302.8 &       25.3 &  36.8 &    27.6 \\\\\n",
      "lee2021\\_layer\\_3  &   541.5 &       29.8 &  36.8 &    30.5 \\\\\n",
      "lee2021\\_layer\\_5  &   913.0 &      143.3 &  36.7 &    16.2 \\\\\n",
      "lee2021\\_layer\\_7  &  1282.3 &      595.7 &  36.5 &     8.8 \\\\\n",
      "lee2021\\_layer\\_10 &  1480.0 &     1089.8 &  36.4 &     4.7 \\\\\n",
      "matsubara2022\\_1  &  2897.1 &       63.3 &  36.1 &   180.0 \\\\\n",
      "matsubara2022\\_2  &  2897.1 &       63.3 &  35.9 &    90.0 \\\\\n",
      "matsubara2022\\_3  &  2897.1 &       63.3 &  34.0 &    23.0 \\\\\n",
      "matsubara2022\\_4  &  2897.1 &       63.3 &  29.5 &    15.0 \\\\\n",
      "matsubara2022\\_5  &  2897.1 &       63.3 &  26.0 &     8.0 \\\\\n",
      "assine2022a\\_25   &   613.8 &       24.8 &  31.6 &   110.0 \\\\\n",
      "assine2022a\\_50   &  1083.4 &       60.1 &  37.8 &   220.0 \\\\\n",
      "assine2022a\\_75   &  1747.3 &      110.5 &  39.9 &   330.0 \\\\\n",
      "assine2022a\\_100  &  2605.4 &      176.9 &  39.6 &   440.0 \\\\\n",
      "\\bottomrule\n",
      "\\end{tabular}\n",
      "\n"
     ]
    }
   ],
   "source": [
    "import pandas as pd\n",
    "from literature_models.model_wrapper import get_all_options\n",
    "\n",
    "rows = []\n",
    "for name, wrapper_class, mode in get_all_options(dummy=False, reduced=False):\n",
    "    wrapper = wrapper_class(mode=mode)\n",
    "    row = [b for a, b in wrapper.generate_metrics().items()]\n",
    "    row[1] = row[1]/1e6\n",
    "    row[2] = row[2]/1e3\n",
    "    row[4] = row[4]/1e3\n",
    "    rows.append(row)\n",
    "    \n",
    "columns=['model', 'MACs', \"Params(K)\", \"mAP\", \"bw(KB)\"] \n",
    "df = pd.DataFrame(rows, columns=columns)\n",
    "df['model'] = df[\"model\"].replace(\"assine2022b\", \"ours\", regex=True)\n",
    "df['mAP'] = df['mAP'].round(1)\n",
    "df['MACs'] = df['MACs'].round(1)\n",
    "df['Params(K)'] = df['Params(K)'].round(1)\n",
    "df['bw(KB)'] = df['bw(KB)'].round(1)\n",
    "\n",
    "df = df.set_index(\"model\")\n",
    "df = df.drop(index=\"ours_12\")\n",
    "df = df.drop(index=\"ours_13\")\n",
    "df = df.drop(index=\"ours_21\")\n",
    "df = df.drop(index=\"ours_23\")\n",
    "df = df.drop(index=\"ours_31\")\n",
    "df = df.drop(index=\"ours_32\")\n",
    "df = df.drop(index=\"ours_41\")\n",
    "df = df.drop(index=\"ours_42\")\n",
    "df = df.drop(index=\"ours_43\")\n",
    "\n",
    "print(df.to_latex())"
   ]
  }
 ],
 "metadata": {
  "kernelspec": {
   "display_name": "Python 3 (ipykernel)",
   "language": "python",
   "name": "python3"
  },
  "language_info": {
   "codemirror_mode": {
    "name": "ipython",
    "version": 3
   },
   "file_extension": ".py",
   "mimetype": "text/x-python",
   "name": "python",
   "nbconvert_exporter": "python",
   "pygments_lexer": "ipython3",
   "version": "3.7.13"
  }
 },
 "nbformat": 4,
 "nbformat_minor": 5
}
