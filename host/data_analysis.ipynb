{
 "cells": [
  {
   "cell_type": "code",
   "execution_count": 1,
   "id": "614d4b2e",
   "metadata": {
    "pycharm": {
     "name": "#%%\n"
    }
   },
   "outputs": [
    {
     "name": "stdout",
     "output_type": "stream",
     "text": [
      "['lee2021_layer_7', 'matsubara2022_1', 'ours_size_34', 'matsubara2022_4', 'ours_size_24', 'ours_size_44', 'lee2021_layer_3', 'ours_size_11', 'dummy']\n"
     ]
    }
   ],
   "source": [
    "import os\n",
    "import json\n",
    "\n",
    "# List result Files\n",
    "experiment_files = [a for a in os.listdir(\"./out\") if \".json\" in a]\n",
    "\n",
    "# Load result Files\n",
    "all_experiments = []\n",
    "for filename in experiment_files:\n",
    "    with open(\"./out/{}\".format(filename), \"r\") as f:\n",
    "        all_experiments.append(json.load(f))\n",
    "\n",
    "# Aglomerate similar results\n",
    "unique_experiment_names = list(dict.fromkeys([a[\"model\"] for a in all_experiments]))\n",
    "print(unique_experiment_names)\n",
    "\n",
    "sorted_experiments = {}\n",
    "for e in unique_experiment_names:\n",
    "    sorted_experiments[e] = []\n",
    "\n",
    "for e in all_experiments:\n",
    "    sorted_experiments[e['model']].append(e)"
   ]
  },
  {
   "cell_type": "code",
   "execution_count": 2,
   "id": "244b3bd1",
   "metadata": {},
   "outputs": [
    {
     "name": "stdout",
     "output_type": "stream",
     "text": [
      "3.5019126621000005\n"
     ]
    }
   ],
   "source": [
    "baseline = sorted_experiments['dummy']\n",
    "\n",
    "total_energy = sum([b['joules1'] for b in baseline])\n",
    "total_seconds = sum([b['seconds'] for b in baseline])\n",
    "baseline_power = total_energy/total_seconds\n",
    "print(baseline_power)"
   ]
  },
  {
   "cell_type": "code",
   "execution_count": 3,
   "id": "371c3c03",
   "metadata": {},
   "outputs": [],
   "source": [
    "aggregated_experiments = []\n",
    "\n",
    "for exp_name, exp_list in sorted_experiments.items():\n",
    "    joules = sum([e['joules1'] for e in exp_list])\n",
    "    seconds = sum([e['seconds'] for e in exp_list])\n",
    "    corrected_joules = joules - baseline_power*seconds\n",
    "    num_images = sum([e['num_images'] for e in exp_list])\n",
    "    aggregated_experiments.append({\n",
    "        \"joules\": joules,\n",
    "        \"seconds\": seconds,\n",
    "        \"corrected_joules\": joules - baseline_power*seconds,\n",
    "        \"corrected_joules_per_image\": corrected_joules / num_images,\n",
    "        \"inference_time\": seconds / num_images,\n",
    "        \"num_images\": num_images,\n",
    "        \"model\": exp_name,\n",
    "        \"macs(MMAC)\": exp_list[0]['macs']/1e6,\n",
    "        \"bw(KB)\": exp_list[0]['bw']/1e6,\n",
    "        \"map\": exp_list[0]['map'],\n",
    "        \"params\": exp_list[0]['params'],\n",
    "    })\n",
    "    \n",
    "with open(\"test.json\", \"w+\") as f:\n",
    "    json.dump(aggregated_experiments, f)"
   ]
  },
  {
   "cell_type": "code",
   "execution_count": 4,
   "id": "358ea938",
   "metadata": {},
   "outputs": [
    {
     "name": "stdout",
     "output_type": "stream",
     "text": [
      "                     joules  seconds  corrected_joules  \\\n",
      "model                                                    \n",
      "dummy             70.038253       20          0.000000   \n",
      "lee2021_layer_3  186.238937       40         46.162431   \n",
      "lee2021_layer_7   92.441149       20         22.402896   \n",
      "matsubara2022_1  196.346035       40         56.269528   \n",
      "matsubara2022_4  286.732491       60         76.617731   \n",
      "ours_size_11      85.969183       20         15.930930   \n",
      "ours_size_24     177.742410       40         37.665904   \n",
      "ours_size_34      90.266119       20         20.227866   \n",
      "ours_size_44     183.065250       40         42.988743   \n",
      "\n",
      "                 corrected_joules_per_image  inference_time  num_images  \\\n",
      "model                                                                     \n",
      "dummy                              0.000000        0.588235          34   \n",
      "lee2021_layer_3                    0.369299        0.320000         125   \n",
      "lee2021_layer_7                    0.546412        0.487805          41   \n",
      "matsubara2022_1                    2.084057        1.481481          27   \n",
      "matsubara2022_4                    1.915443        1.500000          40   \n",
      "ours_size_11                       0.077712        0.097561         205   \n",
      "ours_size_24                       0.119574        0.126984         315   \n",
      "ours_size_34                       0.158030        0.156250         128   \n",
      "ours_size_44                       0.204708        0.190476         210   \n",
      "\n",
      "                  macs(MMAC)    bw(KB)   map  params  \n",
      "model                                                 \n",
      "dummy               0.000000  0.000000   0.0       0  \n",
      "lee2021_layer_3   541.491200  0.030500  36.8   29792  \n",
      "lee2021_layer_7  1282.252800  0.008800  36.5  595680  \n",
      "matsubara2022_1  2897.102848  0.180000  36.1   63264  \n",
      "matsubara2022_4  2897.102848  0.015000  29.5   63264  \n",
      "ours_size_11      210.103292  0.006912  14.5   25332  \n",
      "ours_size_24      210.103292  0.027648  36.1   25332  \n",
      "ours_size_34      210.103292  0.027648  36.4   25332  \n",
      "ours_size_44      210.103292  0.027648  36.8   25332  \n"
     ]
    }
   ],
   "source": [
    "import pandas as pd\n",
    "df = pd.read_json('test.json')\n",
    "df = df.set_index(\"model\")\n",
    "df = df.sort_index(ascending=True)\n",
    "print(df)"
   ]
  },
  {
   "cell_type": "code",
   "execution_count": 5,
   "id": "8b36248a",
   "metadata": {},
   "outputs": [
    {
     "name": "stdout",
     "output_type": "stream",
     "text": [
      "\\begin{tabular}{rrrrrrrrrr}\n",
      "\\toprule\n",
      "    joules &  seconds &  corrected\\_joules &  corrected\\_joules\\_per\\_image &  inference\\_time &  num\\_images &  macs(MMAC) &   bw(KB) &  map &  params \\\\\n",
      " 70.038253 &       20 &          0.000000 &                    0.000000 &        0.588235 &          34 &    0.000000 & 0.000000 &  0.0 &       0 \\\\\n",
      "\\midrule\n",
      "186.238937 &       40 &         46.162431 &                    0.369299 &        0.320000 &         125 &  541.491200 & 0.030500 & 36.8 &   29792 \\\\\n",
      " 92.441149 &       20 &         22.402896 &                    0.546412 &        0.487805 &          41 & 1282.252800 & 0.008800 & 36.5 &  595680 \\\\\n",
      "196.346035 &       40 &         56.269528 &                    2.084057 &        1.481481 &          27 & 2897.102848 & 0.180000 & 36.1 &   63264 \\\\\n",
      "286.732491 &       60 &         76.617731 &                    1.915443 &        1.500000 &          40 & 2897.102848 & 0.015000 & 29.5 &   63264 \\\\\n",
      " 85.969183 &       20 &         15.930930 &                    0.077712 &        0.097561 &         205 &  210.103292 & 0.006912 & 14.5 &   25332 \\\\\n",
      "177.742410 &       40 &         37.665904 &                    0.119574 &        0.126984 &         315 &  210.103292 & 0.027648 & 36.1 &   25332 \\\\\n",
      " 90.266119 &       20 &         20.227866 &                    0.158030 &        0.156250 &         128 &  210.103292 & 0.027648 & 36.4 &   25332 \\\\\n",
      "183.065250 &       40 &         42.988743 &                    0.204708 &        0.190476 &         210 &  210.103292 & 0.027648 & 36.8 &   25332 \\\\\n",
      "\\bottomrule\n",
      "\\end{tabular}\n",
      "\n"
     ]
    },
    {
     "name": "stderr",
     "output_type": "stream",
     "text": [
      "/tmp/ipykernel_1308/1261223815.py:1: FutureWarning: In future versions `DataFrame.to_latex` is expected to utilise the base implementation of `Styler.to_latex` for formatting and rendering. The arguments signature may therefore change. It is recommended instead to use `DataFrame.style.to_latex` which also contains additional functionality.\n",
      "  print(df.to_latex(index=False))\n"
     ]
    }
   ],
   "source": [
    "print(df.to_latex(index=False)) "
   ]
  }
 ],
 "metadata": {
  "kernelspec": {
   "display_name": "Python 3 (ipykernel)",
   "language": "python",
   "name": "python3"
  },
  "language_info": {
   "codemirror_mode": {
    "name": "ipython",
    "version": 3
   },
   "file_extension": ".py",
   "mimetype": "text/x-python",
   "name": "python",
   "nbconvert_exporter": "python",
   "pygments_lexer": "ipython3",
   "version": "3.8.10"
  }
 },
 "nbformat": 4,
 "nbformat_minor": 5
}
