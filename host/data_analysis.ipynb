{
 "cells": [
  {
   "cell_type": "code",
   "execution_count": 1,
   "id": "614d4b2e",
   "metadata": {
    "pycharm": {
     "name": "#%%\n"
    }
   },
   "outputs": [
    {
     "name": "stdout",
     "output_type": "stream",
     "text": [
      "['lee2021_layer_10', 'matsubara2022_5', 'lee2021_layer_5', 'lee2021_layer_7', 'matsubara2022_4', 'matsubara2022_1', 'dummy', 'lee2021_layer_3', 'matsubara2022_2', 'matsubara2022_3']\n"
     ]
    }
   ],
   "source": [
    "import os\n",
    "import json\n",
    "\n",
    "# List result Files\n",
    "experiment_files = [a for a in os.listdir(\"./out\") if \".json\" in a]\n",
    "\n",
    "# Load result Files\n",
    "all_experiments = []\n",
    "for filename in experiment_files:\n",
    "    with open(\"./out/{}\".format(filename), \"r\") as f:\n",
    "        all_experiments.append(json.load(f))\n",
    "\n",
    "# Aglomerate similar results\n",
    "unique_experiment_names = list(dict.fromkeys([a[\"model\"] for a in all_experiments]))\n",
    "print(unique_experiment_names)\n",
    "\n",
    "sorted_experiments = {}\n",
    "for e in unique_experiment_names:\n",
    "    sorted_experiments[e] = []\n",
    "\n",
    "for e in all_experiments:\n",
    "    sorted_experiments[e['model']].append(e)"
   ]
  },
  {
   "cell_type": "code",
   "execution_count": 2,
   "id": "244b3bd1",
   "metadata": {},
   "outputs": [
    {
     "name": "stdout",
     "output_type": "stream",
     "text": [
      "2.9698283918805557\n"
     ]
    }
   ],
   "source": [
    "baseline = sorted_experiments['dummy']\n",
    "\n",
    "total_energy = sum([b['joules1'] for b in baseline])\n",
    "total_seconds = sum([b['seconds'] for b in baseline])\n",
    "baseline_power = total_energy/total_seconds\n",
    "print(baseline_power)"
   ]
  },
  {
   "cell_type": "code",
   "execution_count": 3,
   "id": "371c3c03",
   "metadata": {},
   "outputs": [],
   "source": [
    "aggregated_experiments = []\n",
    "\n",
    "for exp_name, exp_list in sorted_experiments.items():\n",
    "    joules = sum([e['joules1'] for e in exp_list])\n",
    "    seconds = sum([e['seconds'] for e in exp_list])\n",
    "    corrected_joules = joules - baseline_power*seconds\n",
    "    num_images = sum([e['num_images'] for e in exp_list])\n",
    "    aggregated_experiments.append({\n",
    "        \"joules\": joules,\n",
    "        \"seconds\": seconds,\n",
    "        \"corrected_joules\": joules - baseline_power*seconds,\n",
    "        \"corrected_joules_per_image\": corrected_joules / num_images,\n",
    "        \"inference_time\": seconds / num_images,\n",
    "        \"num_images\": num_images,\n",
    "        \"model\": exp_name,\n",
    "        \"macs\": exp_list[0]['macs'],\n",
    "        \"macs\": exp_list[0]['macs'],\n",
    "        \"map\": exp_list[0]['map'],\n",
    "        \"params\": exp_list[0]['params'],\n",
    "    })\n",
    "    \n",
    "with open(\"test.json\", \"w+\") as f:\n",
    "    json.dump(aggregated_experiments, f)"
   ]
  },
  {
   "cell_type": "code",
   "execution_count": 4,
   "id": "358ea938",
   "metadata": {},
   "outputs": [
    {
     "name": "stdout",
     "output_type": "stream",
     "text": [
      "                       joules  seconds  corrected_joules  \\\n",
      "model                                                      \n",
      "dummy             1069.138221      360          0.000000   \n",
      "lee2021_layer_10  1449.352688      360        380.214467   \n",
      "lee2021_layer_3    476.737904      120        120.358497   \n",
      "lee2021_layer_5    716.624028      180        182.054918   \n",
      "lee2021_layer_7    966.204086      240        253.445272   \n",
      "matsubara2022_1    973.729497      240        260.970683   \n",
      "matsubara2022_2    494.501375      120        138.121968   \n",
      "matsubara2022_3    747.987091      180        213.417981   \n",
      "matsubara2022_4   1242.179548      300        351.231030   \n",
      "matsubara2022_5    974.028906      240        261.270092   \n",
      "\n",
      "                  corrected_joules_per_image  inference_time  num_images  \\\n",
      "model                                                                      \n",
      "dummy                               0.000000        0.714286         504   \n",
      "lee2021_layer_10                    0.647725        0.613288         587   \n",
      "lee2021_layer_3                     0.440874        0.439560         273   \n",
      "lee2021_layer_5                     0.570705        0.564263         319   \n",
      "lee2021_layer_7                     0.615158        0.582524         412   \n",
      "matsubara2022_1                     2.269310        2.086957         115   \n",
      "matsubara2022_2                     2.264295        1.967213          61   \n",
      "matsubara2022_3                     2.113049        1.782178         101   \n",
      "matsubara2022_4                     2.128673        1.818182         165   \n",
      "matsubara2022_5                     2.252328        2.068966         116   \n",
      "\n",
      "                        macs   map   params  \n",
      "model                                        \n",
      "dummy                      0   0.0        0  \n",
      "lee2021_layer_10  1480038400  36.4  1089760  \n",
      "lee2021_layer_3    541491200  36.8    29792  \n",
      "lee2021_layer_5    912998400  36.7   143328  \n",
      "lee2021_layer_7   1282252800  36.5   595680  \n",
      "matsubara2022_1   2897102848  36.1    63264  \n",
      "matsubara2022_2   2897102848  35.9    63264  \n",
      "matsubara2022_3   2897102848  34.0    63264  \n",
      "matsubara2022_4   2897102848  29.5    63264  \n",
      "matsubara2022_5   2897102848  26.0    63264  \n"
     ]
    }
   ],
   "source": [
    "import pandas as pd\n",
    "df = pd.read_json('test.json')\n",
    "df = df.set_index(\"model\")\n",
    "df = df.sort_index(ascending=True)\n",
    "print(df)"
   ]
  }
 ],
 "metadata": {
  "kernelspec": {
   "display_name": "Python 3 (ipykernel)",
   "language": "python",
   "name": "python3"
  },
  "language_info": {
   "codemirror_mode": {
    "name": "ipython",
    "version": 3
   },
   "file_extension": ".py",
   "mimetype": "text/x-python",
   "name": "python",
   "nbconvert_exporter": "python",
   "pygments_lexer": "ipython3",
   "version": "3.8.10"
  }
 },
 "nbformat": 4,
 "nbformat_minor": 5
}
