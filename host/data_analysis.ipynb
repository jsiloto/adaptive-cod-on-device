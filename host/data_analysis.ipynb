{
 "cells": [
  {
   "cell_type": "code",
   "execution_count": 1,
   "id": "614d4b2e",
   "metadata": {
    "pycharm": {
     "name": "#%%\n"
    }
   },
   "outputs": [
    {
     "name": "stdout",
     "output_type": "stream",
     "text": [
      "['assine2022b_33', 'assine2022b_44', 'assine2022b_14', 'matsubara2022_1', 'lee2021_layer_3', 'matsubara2022_3', 'matsubara2022_2', 'assine2022a_50', 'assine2022b_24', 'assine2022a_75', 'matsubara2022_4', 'lee2021_layer_10', 'assine2022b_22', 'lee2021_layer_7', 'lee2021_layer_5', 'assine2022a_100', 'assine2022b_34', 'dummy', 'assine2022a_25', 'matsubara2022_5', 'assine2022b_11']\n"
     ]
    }
   ],
   "source": [
    "import os\n",
    "import json\n",
    "import copy\n",
    "\n",
    "# List result Files\n",
    "experiment_files = [a for a in os.listdir(\"./out\") if \".json\" in a]\n",
    "\n",
    "# Load result Files\n",
    "all_experiments = []\n",
    "for filename in experiment_files:\n",
    "    with open(\"./out/{}\".format(filename), \"r\") as f:\n",
    "        all_experiments.append(json.load(f))\n",
    "\n",
    "# Aglomerate similar results\n",
    "unique_experiment_names = list(dict.fromkeys([a[\"model\"] for a in all_experiments]))\n",
    "print(unique_experiment_names)\n",
    "\n",
    "sorted_experiments = {}\n",
    "for e in unique_experiment_names:\n",
    "    sorted_experiments[e] = []\n",
    "\n",
    "for e in all_experiments:\n",
    "    sorted_experiments[e['model']].append(e)"
   ]
  },
  {
   "cell_type": "code",
   "execution_count": 2,
   "id": "244b3bd1",
   "metadata": {},
   "outputs": [
    {
     "name": "stdout",
     "output_type": "stream",
     "text": [
      "2.87708821265\n"
     ]
    }
   ],
   "source": [
    "baseline = sorted_experiments['dummy']\n",
    "\n",
    "total_energy = sum([b['joules1'] for b in baseline])\n",
    "total_seconds = sum([b['seconds'] for b in baseline])\n",
    "baseline_power = total_energy/total_seconds\n",
    "print(baseline_power)"
   ]
  },
  {
   "cell_type": "code",
   "execution_count": null,
   "outputs": [],
   "source": [
    "aggregated_experiments = []\n",
    "\n",
    "for exp_name, exp_list in sorted_experiments.items():\n",
    "    joules = sum([e['joules1'] for e in exp_list])\n",
    "    seconds = sum([e['seconds'] for e in exp_list])\n",
    "    corrected_joules = joules - baseline_power*seconds\n",
    "    num_images = sum([e['num_images'] for e in exp_list])\n",
    "    aggregated_experiments.append({\n",
    "        \"mAP\": exp_list[0]['map'],\n",
    "        \"inference_time\": 1e3*seconds / num_images,\n",
    "        \"KB\": exp_list[0]['bw']/1e3,\n",
    "        \"joules\": joules,\n",
    "        \"seconds\": seconds,\n",
    "        \"corrected_joules\": joules - baseline_power*seconds,\n",
    "        \"corrected_watts\": (joules - baseline_power*seconds)/seconds,\n",
    "        \"corrected_joules_per_image\": corrected_joules / num_images,\n",
    "        \"num_images\": num_images,\n",
    "        \"model\": exp_name,\n",
    "        \"GMAC\": exp_list[0]['macs']/1e9,\n",
    "        \"params(K)\": exp_list[0]['params']/1e3,\n",
    "    })\n",
    "    \n",
    "with open(\"test.json\", \"w+\") as f:\n",
    "    json.dump(aggregated_experiments, f)"
   ],
   "metadata": {
    "collapsed": false,
    "pycharm": {
     "name": "#%%\n"
    }
   }
  },
  {
   "cell_type": "code",
   "execution_count": null,
   "outputs": [],
   "source": [
    "import pandas as pd\n",
    "df = pd.read_json('test.json')\n",
    "df = df.set_index(\"model\")\n",
    "df = df.sort_index(ascending=True)\n",
    "df = df.drop([\"joules\", \"seconds\",\"corrected_joules\", \"num_images\"], axis=1)\n",
    "\n",
    "rename_map = {\n",
    "    \"corrected_joules_per_image\": \"Joules\",\n",
    "    \"corrected_watts\": \"Watts\",\n",
    "    \"inference_time\": \"ms\",\n",
    "}\n",
    "\n",
    "df = df.rename(rename_map, axis=1)\n",
    "\n",
    "df['Watts'] = df['Watts'].round(2)\n",
    "df['Joules'] = df['Joules'].round(2)\n",
    "df['ms'] = df['ms'].round(0).astype(int)\n",
    "df['GMAC'] = df['GMAC'].round(3)\n",
    "df['KB'] = df['KB'].round(1)\n",
    "df['mAP'] = df['mAP'].round(1)\n",
    "df['params(K)'] = df['params(K)'].round(1)\n",
    "print(df)\n",
    "\n",
    "df_back = copy.copy(df)\n",
    "\n",
    "\n",
    "a = df.reindex([\"assine2022a_25\", \"assine2022a_75\", \"assine2022a_100\"])"
   ],
   "metadata": {
    "collapsed": false,
    "pycharm": {
     "name": "#%%\n"
    }
   }
  },
  {
   "cell_type": "code",
   "execution_count": null,
   "outputs": [],
   "source": [
    "print(df.to_latex()) "
   ],
   "metadata": {
    "collapsed": false,
    "pycharm": {
     "name": "#%%\n"
    }
   }
  },
  {
   "cell_type": "code",
   "execution_count": null,
   "outputs": [],
   "source": [
    "import matplotlib\n",
    "font = {'family' : 'normal', 'size'   : 22}\n",
    "matplotlib.rc('font', **font)\n",
    "import matplotlib.pyplot as plt\n",
    "\n",
    "df = copy.copy(df_back)\n",
    "###########################################################################\n",
    "def plot(ax, name, color='blue', configurable=False):\n",
    "    a = df[df.index.str.contains(name)]\n",
    "    bw = a['KB'].values\n",
    "    latency = a['ms'].values\n",
    "    mAP = a['mAP'].values\n",
    "    \n",
    "    z = 2.5*(mAP**2)\n",
    "    z_label = [\"{:2.1f}\".format(m) for m in mAP]\n",
    "    if configurable:\n",
    "         ax.scatter(latency, bw, s=z, marker='o', color=color, alpha=0.25, \n",
    "                    label=name, hatch='||')#, hatch='||') #, edgecolor=color, linewidth=4\n",
    "    else:\n",
    "        ax.scatter(latency, bw, s=z, marker='o', color=color, alpha=0.3,\n",
    "                   edgecolor='black', linewidth=2, label=name)\n",
    "    for i in range(len(mAP)):\n",
    "        ax.annotate(z_label[i], ( latency[i], bw[i]), ha='center', va='center', fontsize=18, color='black')\n",
    "\n",
    "\n",
    "\n",
    "fig = plt.figure(figsize=(20,10))\n",
    "ax = fig.add_subplot(111)\n",
    "ax.set_xlabel('compute time (ms)')\n",
    "ax.set_ylabel('bandwidth (KB)')\n",
    "ax.set_xscale('log')\n",
    "ax.set_yscale('log')\n",
    "\n",
    "f = \"literature_comparison/literature.csv\"\n",
    "df.columns = df.columns.str.replace(' ', '')\n",
    "plot(ax, \"lee2021\", color='cyan')\n",
    "plot(ax, \"assine2022b\", color='red', configurable=True)\n",
    "plot(ax, \"assine2022a\", color=\"#A8127D\", configurable=True)\n",
    "plot(ax, \"matsubara2021\", color='blue')\n",
    "\n",
    "# plot(\"assine\", color='black',  configurable=True)\n",
    "\n",
    "# bb = t.get_bbox_patch()\n",
    "# bb.set_boxstyle(\"rarrow\", pad=0.6)\n",
    "\n",
    "\n",
    "\n",
    "# bbox_props = dict(boxstyle=\"rarrow\", fc=(0.7, 0.1, 0.1), ec=\"b\", lw=0)\n",
    "bbox_props = dict(boxstyle=\"rarrow\", fc=\"#0b5394\", ec=\"b\", lw=0)\n",
    "t = ax.text(580, 1.1e1, \"Inverse Tradeoff\", ha=\"center\", va=\"center\", rotation=-60,\n",
    "            size=20,\n",
    "            bbox=bbox_props)\n",
    "\n",
    "# bbox_props = dict(boxstyle=\"larrow\", fc=(0.1, 0.1, 0.7), ec=\"b\", lw=0)\n",
    "# t = ax.text(210, 9, \"Direct Tradeoff\", ha=\"center\", va=\"center\", rotation=40,\n",
    "#             size=18,\n",
    "#             bbox=bbox_props)\n",
    "bbox_props = dict(boxstyle=\"larrow\", fc=\"#a64d79\", ec=\"b\", lw=0)\n",
    "t = ax.text(250, 9, \"Direct Tradeoff\", ha=\"center\", va=\"center\", rotation=35,\n",
    "            size=20,\n",
    "            bbox=bbox_props)\n",
    "\n",
    "legend_properties = {'weight':'bold', 'size': 16}\n",
    "legend_properties = {'size': 25}\n",
    "lgnd = ax.legend(fontsize=15,  prop=legend_properties, loc='upper left',)#bbox_to_anchor=(0.1, 0.6),\n",
    "lgnd.legendHandles[0]._sizes = [1e3]\n",
    "lgnd.legendHandles[1]._sizes = [1e3]\n",
    "lgnd.legendHandles[2]._sizes = [1e3]\n",
    "lgnd.legendHandles[3]._sizes = [1e3]\n",
    "\n",
    "plt.savefig(os.path.join(\"./out\", \"graph_sota.pdf\"))\n",
    "plt.show()\n"
   ],
   "metadata": {
    "collapsed": false,
    "pycharm": {
     "name": "#%%\n"
    }
   }
  }
 ],
 "metadata": {
  "kernelspec": {
   "display_name": "Python 3 (ipykernel)",
   "language": "python",
   "name": "python3"
  },
  "language_info": {
   "codemirror_mode": {
    "name": "ipython",
    "version": 3
   },
   "file_extension": ".py",
   "mimetype": "text/x-python",
   "name": "python",
   "nbconvert_exporter": "python",
   "pygments_lexer": "ipython3",
   "version": "3.8.10"
  }
 },
 "nbformat": 4,
 "nbformat_minor": 5
}