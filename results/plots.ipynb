{
 "cells": [
  {
   "cell_type": "markdown",
   "id": "b68ca272",
   "metadata": {},
   "source": [
    "# Main Comparison Plots"
   ]
  },
  {
   "cell_type": "code",
   "execution_count": null,
   "id": "a40d4aa1",
   "metadata": {},
   "outputs": [
    {
     "name": "stdout",
     "output_type": "stream",
     "text": [
      "Collecting jsonlines\n",
      "  Downloading jsonlines-3.1.0-py3-none-any.whl (8.6 kB)\n",
      "Requirement already satisfied: attrs>=19.2.0 in /opt/conda/lib/python3.10/site-packages (from jsonlines) (22.1.0)\n",
      "Installing collected packages: jsonlines\n",
      "Successfully installed jsonlines-3.1.0\n",
      "1m_output.jsonl  rpi4_cpus4.csv\n",
      "docker_run.sh\t switching_result_assine2022a.json\n",
      "dynamic.pdf\t switching_result_assine2022b.json\n",
      "output.jsonl\t switching_result_lee2021.json\n",
      "plots.ipynb\t switching_result_matsubara2022.json\n",
      "preprocess.py\n"
     ]
    }
   ],
   "source": [
    "!pip install jsonlines\n",
    "!ls\n",
    "from preprocess import read_jsonlines_file, average_results\n",
    "import matplotlib.pyplot as plt\n",
    "from matplotlib.pyplot import figure\n",
    "import glob\n",
    "import json\n",
    "import pandas as pd"
   ]
  },
  {
   "cell_type": "code",
   "execution_count": null,
   "id": "7704fc4a",
   "metadata": {},
   "outputs": [],
   "source": [
    "sota_data = pd.read_csv(\"rpi4_cpus4.csv\")"
   ]
  },
  {
   "cell_type": "code",
   "execution_count": null,
   "id": "3d3b92fe",
   "metadata": {},
   "outputs": [],
   "source": [
    "def plot(ax, name, color='blue', marker='o', configurable=False):\n",
    "    a = df[df.index.str.contains(name)]\n",
    "    bw = a['KB'].values\n",
    "    latency = a['ms'].values\n",
    "    mAP = a['mAP'].values\n",
    "    \n",
    "    z = 80*(mAP**1.1)\n",
    "    z_label = [\"{:2.1f}\".format(m) for m in mAP]\n",
    "    \n",
    "    vmin=10.0\n",
    "    vmax=40.0\n",
    "    \n",
    "    if configurable:\n",
    "         axi = ax.scatter(latency, bw, s=z, marker=marker, alpha=1.0, \n",
    "                    label=name, #linewidth=2,\n",
    "#                     edgecolor='black',\n",
    "                    c=mAP, cmap='viridis', vmin=vmin, vmax=vmax)\n",
    "    else:\n",
    "        axi = ax.scatter(latency, bw, s=z, marker=marker, alpha=1.0,\n",
    "                   label=name,\n",
    "#                    edgecolor='black',\n",
    "                   c=mAP, cmap='viridis', vmin=vmin, vmax=vmax)\n",
    "    for i in range(len(mAP)):\n",
    "        ax.annotate(z_label[i], ( latency[i], bw[i]), ha='center', va='center', fontsize=18, color='black')\n",
    "\n",
    "    return axi\n",
    "\n",
    "fig = plt.figure(figsize=(20,10))\n",
    "ax = fig.add_subplot(111)\n",
    "ax.set_xlabel('compute time (ms)')\n",
    "ax.set_ylabel('bandwidth (KB)')\n",
    "ax.set_xscale('log')\n",
    "ax.set_yscale('log')\n",
    "\n",
    "# Hide the right and top spines\n",
    "ax.spines.right.set_visible(False)\n",
    "ax.spines.top.set_visible(False)\n",
    "\n",
    "f = \"literature_comparison/literature.csv\"\n",
    "df.columns = df.columns.str.replace(' ', '')\n",
    "plot(ax, \"lee2021\", color='cyan', marker='D')\n",
    "plot(ax, \"ours\", color='red', marker=\"s\", configurable=True)\n",
    "plot(ax, \"assine2022\", color=\"#A8127D\", marker=\"o\", configurable=True)\n",
    "axi = plot(ax, \"matsubara2022\", color='blue', marker=\"p\")\n",
    "\n",
    "\n",
    "\n",
    "\n",
    "# ADD ARROWS\n",
    "bbox_props = dict(boxstyle=\"rarrow\", fc=\"#0b5394\", ec=\"b\", lw=0)\n",
    "t = ax.text(700, 2e1, \"Inverse Tradeoff\", ha=\"center\", va=\"center\", rotation=-45,\n",
    "            size=24, color=\"white\",\n",
    "            bbox=bbox_props)\n",
    "bbox_props = dict(boxstyle=\"larrow\", fc=\"#a64d79\", ec=\"b\", lw=0)\n",
    "t = ax.text(300, 7, \"Direct Tradeoff\", ha=\"center\", va=\"center\", rotation=25,\n",
    "            size=24, color=\"white\",\n",
    "            bbox=bbox_props)\n",
    "\n",
    "# LEGEND\n",
    "legend_properties = {'weight':'normal', 'size': 24}\n",
    "lgnd = ax.legend(fontsize=15,  prop=legend_properties, \n",
    "                 loc='upper left')\n",
    "for i in range(4):\n",
    "    lgnd.legendHandles[i]._sizes = [1e3]\n",
    "#     lgnd.legendHandles[i].set_color('black')\n",
    "#     lgnd.legendHandles[i].set_facecolor('white')\n",
    "\n",
    "ax.set_xlim(150, 3.5e3)\n",
    "ax.set_ylim(3, 1e3)\n",
    "fig.colorbar(axi)\n",
    "\n",
    "ax.set_xticks([2e2, 5e2, 1e3, 2e3])\n",
    "ax.get_xaxis().set_major_formatter(matplotlib.ticker.FormatStrFormatter('%g'))\n",
    "plt.subplots_adjust(top = 0.97, bottom = .08, right = 1.1, left = .06, hspace = 0, wspace = 0.15)\n",
    "plt.savefig(\"graph_sota.pdf\", dpi=500)"
   ]
  },
  {
   "cell_type": "code",
   "execution_count": null,
   "id": "517cd56b",
   "metadata": {},
   "outputs": [],
   "source": []
  },
  {
   "cell_type": "markdown",
   "id": "82168105",
   "metadata": {},
   "source": [
    "# Switching Time Chart"
   ]
  },
  {
   "cell_type": "code",
   "execution_count": null,
   "id": "ec2089ac",
   "metadata": {},
   "outputs": [],
   "source": [
    "\n",
    "file_list = glob.glob(\"switching*\")\n",
    "\n",
    "columns=['name', 'num_configs', \"ram(MB)\", \"disk_load(ms)\", \"warmup(ms)\"]\n",
    "num_configs_dict = {\n",
    "    \"assine2022b\": 16,\n",
    "    \"assine2022a\": 12,\n",
    "    \"matsubara2022\": 4,\n",
    "    \"lee2021\": 5,\n",
    "}\n",
    "\n",
    "rows = []\n",
    "\n",
    "for file in file_list:\n",
    "    with open(file, \"r\") as fp:\n",
    "        data = json.load(fp)\n",
    "        name = file.split('switching_result_')[1].split(\".json\")[0]\n",
    "        num_configs = num_configs_dict[name]\n",
    "        ram = data[\"ram\"]*1000\n",
    "        disk_load = sum([l[\"disk_load\"] for l in data[\"lists\"]])\n",
    "        warmup = sum([l[\"warmup\"] for l in data[\"lists\"]])\n",
    "        row = [name, num_configs, ram, disk_load, warmup]\n",
    "        rows.append(row)\n",
    "        \n",
    "    \n",
    "\n",
    "df = pd.DataFrame(rows, columns=columns)\n",
    "df = df.set_index(\"name\")\n",
    "df = df.round(1)\n",
    "print(df)\n",
    "# print(df.to_latex())"
   ]
  },
  {
   "cell_type": "markdown",
   "id": "5b5ce963",
   "metadata": {},
   "source": [
    "## Dynamic Behaviour\n"
   ]
  },
  {
   "cell_type": "code",
   "execution_count": null,
   "id": "085574dd",
   "metadata": {},
   "outputs": [],
   "source": []
  },
  {
   "cell_type": "code",
   "execution_count": null,
   "id": "30ae6bff",
   "metadata": {},
   "outputs": [],
   "source": [
    "\n",
    "\n",
    "results = read_jsonlines_file('output.jsonl')\n",
    "fig, ax = plt.subplots(5, 1, figsize=(5, 10), dpi=200)\n",
    "\n",
    "\n",
    "for a in fig.get_axes():\n",
    "    a.label_outer()\n",
    "    \n",
    "p0 = ax[0].scatter(time, e2e, s=8, color='r', label=\"E2E Latency\")\n",
    "# p0 = ax[0].plot(time, e2e, \"r-\", linewidth=0.7)\n",
    "p0 = ax[0].plot(results[\"time\"], results[\"deadline\"], \"r-\")\n",
    "p1 = ax[1].plot(results[\"time\"], results[\"bw\"], \"b-\", label=\"Bandwidth(kB/s)\")\n",
    "p2 = ax[2].plot(results[\"time\"], results[\"mAP\"], \"g-\", label=\"mAP\")\n",
    "p3 = ax[3].plot(results[\"time\"], results[\"compute\"], linewidth=0.7, color=\"black\", label=\"mAP\")\n",
    "p4 = ax[4].plot(results[\"time\"], results[\"bits\"], linewidth=0.7, color=\"black\", label=\"mAP\")\n",
    "\n",
    "\n",
    "\n",
    "ax[0].set_ylabel(\"E2E Latency (ms)\")\n",
    "ax[1].set_ylabel(\"Bandwidth (kB/s)\")\n",
    "ax[2].set_ylabel(\"mAP\")\n",
    "ax[3].set_ylabel(\"Ensemble Size\")\n",
    "ax[4].set_ylabel(\"Bits\")\n",
    "ax[4].set_xlabel(\"Seconds\")\n",
    "\n",
    "plt.savefig(\"dynamic.pdf\")"
   ]
  },
  {
   "cell_type": "markdown",
   "id": "18512c92",
   "metadata": {},
   "source": [
    "# Dynamic - Fixed Distance"
   ]
  },
  {
   "cell_type": "code",
   "execution_count": null,
   "id": "787dcc18",
   "metadata": {},
   "outputs": [],
   "source": [
    "import numpy as np\n",
    "import jsonlines\n",
    "ignore_start = 5\n",
    "def get_mean(key):\n",
    "    with jsonlines.open('1m_output.jsonl') as reader:\n",
    "        values = [obj[key] for obj in reader]\n",
    "    values = values[ignore_start:]\n",
    "    return np.mean(values)\n",
    "    \n",
    "\n",
    "bw = get_mean(\"bw\")\n",
    "model_time = get_mean(\"model_time\")*1000\n",
    "e2e = get_mean(\"e2e\")\n",
    "mAP = get_mean(\"map\")\n",
    "deadline = get_mean(\"deadline\")\n",
    "\n",
    "\n",
    "width =0.3\n",
    "data = [e2e-model_time, model_time]\n",
    "print(data)\n",
    "plt.bar(np.arange(len(data)), data, width=width)\n",
    "plt.show()\n",
    "\n",
    "\n",
    "# data1 = [23,85, 72, 43, 52]\n",
    "# data2 = [42, 35, 21, 16, 9]\n",
    "\n",
    "# plt.bar(np.arange(len(data1)), data1, width=width)\n",
    "# plt.bar(np.arange(len(data2))+ width, data2, width=width)\n",
    "# plt.show()"
   ]
  },
  {
   "cell_type": "markdown",
   "id": "a402f201",
   "metadata": {},
   "source": [
    "# Fixed Mode - Fixed Distance"
   ]
  },
  {
   "cell_type": "code",
   "execution_count": null,
   "id": "7bc49e0a",
   "metadata": {},
   "outputs": [],
   "source": [
    "modes = [11, 12, 13, 14, 21, 22, 23, 24, 31, 32, 33, 34, 41, 42, 43, 44]\n",
    "\n",
    "df = pd.Dataframe()\n",
    "\n",
    "for mode in modes:\n",
    "    results = read_jsonlines_file(f'output_static_{mode}.jsonl')\n",
    "    results = average_results(results)\n",
    "    df = df.append(results, ignore_index=True)\n",
    "    \n",
    "print(df)"
   ]
  }
 ],
 "metadata": {
  "kernelspec": {
   "display_name": "Python 3 (ipykernel)",
   "language": "python",
   "name": "python3"
  },
  "language_info": {
   "codemirror_mode": {
    "name": "ipython",
    "version": 3
   },
   "file_extension": ".py",
   "mimetype": "text/x-python",
   "name": "python",
   "nbconvert_exporter": "python",
   "pygments_lexer": "ipython3",
   "version": "3.10.6"
  }
 },
 "nbformat": 4,
 "nbformat_minor": 5
}
